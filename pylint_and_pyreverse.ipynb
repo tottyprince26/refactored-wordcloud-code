{
  "nbformat": 4,
  "nbformat_minor": 0,
  "metadata": {
    "colab": {
      "name": "pylint and pyreverse",
      "provenance": [],
      "collapsed_sections": [],
      "include_colab_link": true
    },
    "kernelspec": {
      "name": "python3",
      "display_name": "Python 3"
    }
  },
  "cells": [
    {
      "cell_type": "markdown",
      "metadata": {
        "id": "view-in-github",
        "colab_type": "text"
      },
      "source": [
        "<a href=\"https://colab.research.google.com/github/tottyprince26/refactored-wordcloud-code/blob/main/pylint_and_pyreverse.ipynb\" target=\"_parent\"><img src=\"https://colab.research.google.com/assets/colab-badge.svg\" alt=\"Open In Colab\"/></a>"
      ]
    },
    {
      "cell_type": "markdown",
      "metadata": {
        "id": "V5Oim1DnRuvi"
      },
      "source": [
        "# **code to generate UML diagram and error analysis in the code**"
      ]
    },
    {
      "cell_type": "code",
      "metadata": {
        "id": "zDBVU2oB-22O",
        "colab": {
          "base_uri": "https://localhost:8080/",
          "height": 674
        },
        "outputId": "142c727d-9575-4397-b603-19d8796e2a7f"
      },
      "source": [
        "\"\"\"\n",
        "PROYECTO_1º_PARCIAL_MODELAMIENTO_DE_SOFTWARE\n",
        "AUTHORS:\n",
        "AUSTIN SALGUERO\n",
        "CARLOS MENDOZA\n",
        "WILSON GILCES\n",
        "JIMMY SALAZAR\n",
        "\"\"\"\n",
        "import matplotlib.pyplot as plt #LIBRERIAS\n",
        "import matplotlib.image as mpimg #LIBRERIAS\n",
        "import numpy as np #LIBRERIAS\n",
        "!pip install pylint #instalacion de pylint\n",
        "!git clone  https://github.com/tottyprince26/refactored-wordcloud-code.git #clonamos el directorio de github donde se encuentra el proyecto\n",
        "!pylint  /content/refactored-wordcloud-code/wordcloud.py  #ejecutamos el comando pylint y a continuacion el proyecto\n",
        "!pyreverse -S /content/refactored-wordcloud-code/wordcloud.py #ejecutamos el pyreverse con la direccion del proyecto\n",
        "!dot -Tpng classes.dot -o uml.png #generamos la salida en uno de los formatos disponibles, en este caso en formato png\n",
        "img = plt.imshow(mpimg.imread('uml.png')) #mostramos los datos obtenidos y los convertimos a imagen 2D\n",
        "img.axes.get_xaxis().set_visible(False)\n",
        "img.axes.get_yaxis().set_visible(False)\n",
        "plt.show() #muestra la imagen\n"
      ],
      "execution_count": 3,
      "outputs": [
        {
          "output_type": "stream",
          "text": [
            "Requirement already satisfied: pylint in /usr/local/lib/python3.7/dist-packages (2.9.5)\n",
            "Requirement already satisfied: mccabe<0.7,>=0.6 in /usr/local/lib/python3.7/dist-packages (from pylint) (0.6.1)\n",
            "Requirement already satisfied: toml>=0.7.1 in /usr/local/lib/python3.7/dist-packages (from pylint) (0.10.2)\n",
            "Requirement already satisfied: isort<6,>=4.2.5 in /usr/local/lib/python3.7/dist-packages (from pylint) (5.9.2)\n",
            "Requirement already satisfied: astroid<2.7,>=2.6.5 in /usr/local/lib/python3.7/dist-packages (from pylint) (2.6.5)\n",
            "Requirement already satisfied: typing-extensions>=3.7.4 in /usr/local/lib/python3.7/dist-packages (from astroid<2.7,>=2.6.5->pylint) (3.7.4.3)\n",
            "Requirement already satisfied: wrapt<1.13,>=1.11 in /usr/local/lib/python3.7/dist-packages (from astroid<2.7,>=2.6.5->pylint) (1.12.1)\n",
            "Requirement already satisfied: lazy-object-proxy>=1.4.0 in /usr/local/lib/python3.7/dist-packages (from astroid<2.7,>=2.6.5->pylint) (1.6.0)\n",
            "Requirement already satisfied: typed-ast<1.5,>=1.4.0 in /usr/local/lib/python3.7/dist-packages (from astroid<2.7,>=2.6.5->pylint) (1.4.3)\n",
            "Requirement already satisfied: setuptools>=20.0 in /usr/local/lib/python3.7/dist-packages (from astroid<2.7,>=2.6.5->pylint) (57.2.0)\n",
            "Requirement already satisfied: graphviz in /usr/local/lib/python3.7/dist-packages (0.10.1)\n",
            "fatal: destination path 'refactored-wordcloud-code' already exists and is not an empty directory.\n",
            "************* Module wordcloud\n",
            "refactored-wordcloud-code/wordcloud.py:64:0: C0301: Line too long (108/100) (line-too-long)\n",
            "refactored-wordcloud-code/wordcloud.py:101:0: C0301: Line too long (103/100) (line-too-long)\n",
            "refactored-wordcloud-code/wordcloud.py:21:0: W0622: Redefining built-in 'id' (redefined-builtin)\n",
            "refactored-wordcloud-code/wordcloud.py:11:0: W0406: Module import itself (import-self)\n",
            "refactored-wordcloud-code/wordcloud.py:11:0: W0406: Module import itself (import-self)\n",
            "\n",
            "------------------------------------------------------------------\n",
            "Your code has been rated at 9.49/10 (previous run: 9.49/10, +0.00)\n",
            "\n",
            "parsing /content/refactored-wordcloud-code/wordcloud.py...\n"
          ],
          "name": "stdout"
        },
        {
          "output_type": "display_data",
          "data": {
            "image/png": "[encoded data removed]",
            "text/plain": [
              "<Figure size 432x288 with 1 Axes>"
            ]
          },
          "metadata": {
            "tags": [],
            "needs_background": "light"
          }
        }
      ]
    }
  ]
}